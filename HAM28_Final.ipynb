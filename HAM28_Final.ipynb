{
 "cells": [
  {
   "cell_type": "markdown",
   "metadata": {
    "colab_type": "text",
    "id": "view-in-github"
   },
   "source": [
    "<a href=\"https://colab.research.google.com/github/mittshah2/Skin-Disease-Prediction-Web-Application/blob/master/HAM28_Final.ipynb\" target=\"_parent\"><img src=\"https://colab.research.google.com/assets/colab-badge.svg\" alt=\"Open In Colab\"/></a>"
   ]
  },
  {
   "cell_type": "code",
   "execution_count": 1,
   "metadata": {
    "id": "C0l-8hJYSoDE"
   },
   "outputs": [],
   "source": [
    "import os\n",
    "import pandas as pd\n",
    "import numpy as np\n",
    "import matplotlib.pyplot as p\n",
    "import PIL as pil\n",
    "from tensorflow.keras.preprocessing.image import ImageDataGenerator\n",
    "from tensorflow.keras.utils import to_categorical\n",
    "from sklearn.model_selection import train_test_split\n",
    "import seaborn as sns\n"
   ]
  },
  {
   "cell_type": "markdown",
   "metadata": {
    "id": "rKjn6DvRjeRp"
   },
   "source": [
    "# **Visualising Dataset**"
   ]
  },
  {
   "cell_type": "code",
   "execution_count": 5,
   "metadata": {
    "colab": {
     "base_uri": "https://localhost:8080/",
     "height": 279
    },
    "id": "RK9Us_pIi7Yx",
    "outputId": "252df28e-b86b-4084-9748-41d74502bffb"
   },
   "outputs": [
    {
     "name": "stdout",
     "output_type": "stream",
     "text": [
      "<class 'pandas.core.frame.DataFrame'>\n",
      "RangeIndex: 10015 entries, 0 to 10014\n",
      "Data columns (total 7 columns):\n",
      " #   Column        Non-Null Count  Dtype  \n",
      "---  ------        --------------  -----  \n",
      " 0   lesion_id     10015 non-null  object \n",
      " 1   image_id      10015 non-null  object \n",
      " 2   dx            10015 non-null  object \n",
      " 3   dx_type       10015 non-null  object \n",
      " 4   age           9958 non-null   float64\n",
      " 5   sex           10015 non-null  object \n",
      " 6   localization  10015 non-null  object \n",
      "dtypes: float64(1), object(6)\n",
      "memory usage: 547.8+ KB\n"
     ]
    }
   ],
   "source": [
    "meta=pd.read_csv('HAM10000_metadata.csv')\n",
    "meta.info()"
   ]
  },
  {
   "cell_type": "code",
   "execution_count": 6,
   "metadata": {
    "colab": {
     "base_uri": "https://localhost:8080/",
     "height": 206
    },
    "id": "8jARRxg_ki6H",
    "outputId": "2f84baf1-fded-4485-8030-16984cc77f67"
   },
   "outputs": [
    {
     "data": {
      "text/html": [
       "<div>\n",
       "<style scoped>\n",
       "    .dataframe tbody tr th:only-of-type {\n",
       "        vertical-align: middle;\n",
       "    }\n",
       "\n",
       "    .dataframe tbody tr th {\n",
       "        vertical-align: top;\n",
       "    }\n",
       "\n",
       "    .dataframe thead th {\n",
       "        text-align: right;\n",
       "    }\n",
       "</style>\n",
       "<table border=\"1\" class=\"dataframe\">\n",
       "  <thead>\n",
       "    <tr style=\"text-align: right;\">\n",
       "      <th></th>\n",
       "      <th>lesion_id</th>\n",
       "      <th>image_id</th>\n",
       "      <th>dx</th>\n",
       "      <th>dx_type</th>\n",
       "      <th>age</th>\n",
       "      <th>sex</th>\n",
       "      <th>localization</th>\n",
       "    </tr>\n",
       "  </thead>\n",
       "  <tbody>\n",
       "    <tr>\n",
       "      <th>0</th>\n",
       "      <td>HAM_0000118</td>\n",
       "      <td>ISIC_0027419</td>\n",
       "      <td>bkl</td>\n",
       "      <td>histo</td>\n",
       "      <td>80.0</td>\n",
       "      <td>male</td>\n",
       "      <td>scalp</td>\n",
       "    </tr>\n",
       "    <tr>\n",
       "      <th>1</th>\n",
       "      <td>HAM_0000118</td>\n",
       "      <td>ISIC_0025030</td>\n",
       "      <td>bkl</td>\n",
       "      <td>histo</td>\n",
       "      <td>80.0</td>\n",
       "      <td>male</td>\n",
       "      <td>scalp</td>\n",
       "    </tr>\n",
       "    <tr>\n",
       "      <th>2</th>\n",
       "      <td>HAM_0002730</td>\n",
       "      <td>ISIC_0026769</td>\n",
       "      <td>bkl</td>\n",
       "      <td>histo</td>\n",
       "      <td>80.0</td>\n",
       "      <td>male</td>\n",
       "      <td>scalp</td>\n",
       "    </tr>\n",
       "    <tr>\n",
       "      <th>3</th>\n",
       "      <td>HAM_0002730</td>\n",
       "      <td>ISIC_0025661</td>\n",
       "      <td>bkl</td>\n",
       "      <td>histo</td>\n",
       "      <td>80.0</td>\n",
       "      <td>male</td>\n",
       "      <td>scalp</td>\n",
       "    </tr>\n",
       "    <tr>\n",
       "      <th>4</th>\n",
       "      <td>HAM_0001466</td>\n",
       "      <td>ISIC_0031633</td>\n",
       "      <td>bkl</td>\n",
       "      <td>histo</td>\n",
       "      <td>75.0</td>\n",
       "      <td>male</td>\n",
       "      <td>ear</td>\n",
       "    </tr>\n",
       "  </tbody>\n",
       "</table>\n",
       "</div>"
      ],
      "text/plain": [
       "     lesion_id      image_id   dx dx_type   age   sex localization\n",
       "0  HAM_0000118  ISIC_0027419  bkl   histo  80.0  male        scalp\n",
       "1  HAM_0000118  ISIC_0025030  bkl   histo  80.0  male        scalp\n",
       "2  HAM_0002730  ISIC_0026769  bkl   histo  80.0  male        scalp\n",
       "3  HAM_0002730  ISIC_0025661  bkl   histo  80.0  male        scalp\n",
       "4  HAM_0001466  ISIC_0031633  bkl   histo  75.0  male          ear"
      ]
     },
     "execution_count": 6,
     "metadata": {},
     "output_type": "execute_result"
    }
   ],
   "source": [
    "meta.head()"
   ]
  },
  {
   "cell_type": "code",
   "execution_count": 7,
   "metadata": {
    "colab": {
     "base_uri": "https://localhost:8080/",
     "height": 342
    },
    "id": "ZOJIdZPfjp6f",
    "outputId": "0b60e9b2-65dd-4539-eabf-0fc56498e2ae"
   },
   "outputs": [
    {
     "data": {
      "text/plain": [
       "<seaborn.axisgrid.FacetGrid at 0x27891053d90>"
      ]
     },
     "execution_count": 7,
     "metadata": {},
     "output_type": "execute_result"
    },
    {
     "data": {
      "image/png": "[encoded data removed]",
      "text/plain": [
       "<Figure size 1152x360 with 1 Axes>"
      ]
     },
     "metadata": {
      "needs_background": "light"
     },
     "output_type": "display_data"
    }
   ],
   "source": [
    "g = sns.catplot(x=\"dx\", kind=\"count\", palette='bright', data=meta)\n",
    "g.fig.set_size_inches(16, 5)\n",
    "\n",
    "g.ax.set_title('Skin Cancer by Class', fontsize=20)\n",
    "g.set_xlabels('Skin Cancer Class', fontsize=14)\n",
    "g.set_ylabels('Number of Data Points', fontsize=14)"
   ]
  },
  {
   "cell_type": "markdown",
   "metadata": {
    "id": "WiRSnm9ilibi"
   },
   "source": [
    "This graph shows the dataset has a major problem of class imbalance."
   ]
  },
  {
   "cell_type": "code",
   "execution_count": 8,
   "metadata": {
    "colab": {
     "base_uri": "https://localhost:8080/",
     "height": 316
    },
    "id": "HcJEZtJemamt",
    "outputId": "ddcc4f2d-fd4d-4e09-896b-160bbe3ea4be"
   },
   "outputs": [
    {
     "data": {
      "image/png": "[encoded data removed]",
      "text/plain": [
       "<Figure size 1152x360 with 1 Axes>"
      ]
     },
     "metadata": {
      "needs_background": "light"
     },
     "output_type": "display_data"
    }
   ],
   "source": [
    "g = sns.catplot(x=\"dx\", kind=\"count\", hue=\"sex\", palette='coolwarm', data=meta)\n",
    "g.fig.set_size_inches(16, 5)\n",
    "\n",
    "g.ax.set_title('Skin Cancer by Sex', fontsize=20)\n",
    "g.set_xlabels('Skin Cancer Class', fontsize=14)\n",
    "g.set_ylabels('Number of Data Points', fontsize=14)\n",
    "g._legend.set_title('Sex')"
   ]
  },
  {
   "cell_type": "code",
   "execution_count": 9,
   "metadata": {
    "colab": {
     "base_uri": "https://localhost:8080/",
     "height": 511
    },
    "id": "bzS8LibJmptv",
    "outputId": "fb84b296-6a65-4e0a-d6fa-8c645a5e696a"
   },
   "outputs": [
    {
     "data": {
      "image/png": "[encoded data removed]",
      "text/plain": [
       "<Figure size 1152x648 with 1 Axes>"
      ]
     },
     "metadata": {
      "needs_background": "light"
     },
     "output_type": "display_data"
    }
   ],
   "source": [
    "g = sns.catplot(x=\"dx\", kind=\"count\", hue=\"age\", palette='bright', data=meta)\n",
    "g.fig.set_size_inches(16, 9)\n",
    "\n",
    "g.ax.set_title('Skin Cancer by Age', fontsize=20)\n",
    "g.set_xlabels('Skin Cancer Class', fontsize=14)\n",
    "g.set_ylabels('Number of Data Points', fontsize=14)\n",
    "g._legend.set_title('Age')"
   ]
  },
  {
   "cell_type": "markdown",
   "metadata": {
    "id": "Fuq7F77qij5v"
   },
   "source": [
    "# **Extracting x and y from csv file**"
   ]
  },
  {
   "cell_type": "code",
   "execution_count": 11,
   "metadata": {
    "id": "tpUlT7hrSuGJ"
   },
   "outputs": [],
   "source": [
    "df=pd.read_csv('hmnist_28_28_RGB.csv')\n",
    "x=df.drop('label',axis=1)\n",
    "y=df['label']\n",
    "x=x.to_numpy()\n",
    "x=x/255\n",
    "y=to_categorical(y)"
   ]
  },
  {
   "cell_type": "code",
   "execution_count": 12,
   "metadata": {
    "colab": {
     "base_uri": "https://localhost:8080/",
     "height": 167
    },
    "id": "RZwBaTpLS_yC",
    "outputId": "546794bc-c93c-4570-c251-03be396c0aca"
   },
   "outputs": [
    {
     "data": {
      "text/plain": [
       "4    6705\n",
       "6    1113\n",
       "2    1099\n",
       "1     514\n",
       "0     327\n",
       "5     142\n",
       "3     115\n",
       "Name: label, dtype: int64"
      ]
     },
     "execution_count": 12,
     "metadata": {},
     "output_type": "execute_result"
    }
   ],
   "source": [
    "df['label'].value_counts()"
   ]
  },
  {
   "cell_type": "code",
   "execution_count": 13,
   "metadata": {
    "id": "Lf6SSTrphf6i"
   },
   "outputs": [],
   "source": [
    "label={\n",
    "    ' Actinic keratoses':0,\n",
    "    'Basal cell carcinoma':1,\n",
    "    'Benign keratosis-like lesions':2,\n",
    "    'Dermatofibroma':3,\n",
    "    'Melanocytic nevi':4,\n",
    "    'Melanoma':5,\n",
    "    'Vascular lesions':6\n",
    "}"
   ]
  },
  {
   "cell_type": "code",
   "execution_count": 14,
   "metadata": {
    "id": "Cq3JvtnGTS_e"
   },
   "outputs": [],
   "source": [
    "x=x.reshape(-1,28,28,3)"
   ]
  },
  {
   "cell_type": "markdown",
   "metadata": {
    "id": "CyXFB0oOm7wp"
   },
   "source": [
    "# **Spliiting into train test**"
   ]
  },
  {
   "cell_type": "code",
   "execution_count": 15,
   "metadata": {
    "id": "W36JI4DuXBPc"
   },
   "outputs": [],
   "source": [
    "xtrain,xtest,ytrain,ytest = train_test_split(x,y,test_size=0.1,random_state=13,stratify=df['label'])"
   ]
  },
  {
   "cell_type": "markdown",
   "metadata": {
    "id": "x_lo8S6AnF0H"
   },
   "source": [
    "# **Image augmentation**"
   ]
  },
  {
   "cell_type": "code",
   "execution_count": 16,
   "metadata": {
    "id": "C-Bk5I-XXQ3M"
   },
   "outputs": [],
   "source": [
    "datagen=ImageDataGenerator(rotation_range=20, # rotate the image 20 degrees\n",
    "                               width_shift_range=0.10, # Shift the pic width by a max of 5%\n",
    "                               height_shift_range=0.10, # Shift the pic height by a max of 5%\n",
    "                               rescale=1/255, # Rescale the image by normalzing it.\n",
    "                               shear_range=0.1, # Shear means cutting away part of the image (max 10%)\n",
    "                               zoom_range=0.1, # Zoom in by 10% max\n",
    "                               horizontal_flip=True,\n",
    "                               vertical_flip=True,\n",
    "                               fill_mode='nearest')"
   ]
  },
  {
   "cell_type": "code",
   "execution_count": 17,
   "metadata": {
    "id": "4lp-1rM8XZ4M"
   },
   "outputs": [],
   "source": [
    "datagen.fit(xtrain)"
   ]
  },
  {
   "cell_type": "markdown",
   "metadata": {
    "id": "wWDsBKvFm5IV"
   },
   "source": [
    "# **Model**"
   ]
  },
  {
   "cell_type": "code",
   "execution_count": 18,
   "metadata": {
    "id": "rK9FAP54Hv0x"
   },
   "outputs": [],
   "source": [
    "from tensorflow.keras.metrics import categorical_accuracy, top_k_categorical_accuracy\n",
    "def accuracy(y_true, y_pred):\n",
    "    return top_k_categorical_accuracy(y_true, y_pred, k=2)"
   ]
  },
  {
   "cell_type": "code",
   "execution_count": 19,
   "metadata": {
    "colab": {
     "base_uri": "https://localhost:8080/",
     "height": 877
    },
    "id": "FxNe2bZRXhoa",
    "outputId": "933ebd52-eeb0-4817-f65c-96791308a395"
   },
   "outputs": [
    {
     "name": "stdout",
     "output_type": "stream",
     "text": [
      "Model: \"sequential\"\n",
      "_________________________________________________________________\n",
      " Layer (type)                Output Shape              Param #   \n",
      "=================================================================\n",
      " conv2d (Conv2D)             (None, 27, 27, 64)        832       \n",
      "                                                                 \n",
      " max_pooling2d (MaxPooling2D  (None, 13, 13, 64)       0         \n",
      " )                                                               \n",
      "                                                                 \n",
      " batch_normalization (BatchN  (None, 13, 13, 64)       256       \n",
      " ormalization)                                                   \n",
      "                                                                 \n",
      " conv2d_1 (Conv2D)           (None, 12, 12, 512)       131584    \n",
      "                                                                 \n",
      " max_pooling2d_1 (MaxPooling  (None, 6, 6, 512)        0         \n",
      " 2D)                                                             \n",
      "                                                                 \n",
      " batch_normalization_1 (Batc  (None, 6, 6, 512)        2048      \n",
      " hNormalization)                                                 \n",
      "                                                                 \n",
      " dropout (Dropout)           (None, 6, 6, 512)         0         \n",
      "                                                                 \n",
      " conv2d_2 (Conv2D)           (None, 5, 5, 1024)        2098176   \n",
      "                                                                 \n",
      " max_pooling2d_2 (MaxPooling  (None, 2, 2, 1024)       0         \n",
      " 2D)                                                             \n",
      "                                                                 \n",
      " batch_normalization_2 (Batc  (None, 2, 2, 1024)       4096      \n",
      " hNormalization)                                                 \n",
      "                                                                 \n",
      " dropout_1 (Dropout)         (None, 2, 2, 1024)        0         \n",
      "                                                                 \n",
      " conv2d_3 (Conv2D)           (None, 2, 2, 1024)        1049600   \n",
      "                                                                 \n",
      " max_pooling2d_3 (MaxPooling  (None, 2, 2, 1024)       0         \n",
      " 2D)                                                             \n",
      "                                                                 \n",
      " batch_normalization_3 (Batc  (None, 2, 2, 1024)       4096      \n",
      " hNormalization)                                                 \n",
      "                                                                 \n",
      " dropout_2 (Dropout)         (None, 2, 2, 1024)        0         \n",
      "                                                                 \n",
      " flatten (Flatten)           (None, 4096)              0         \n",
      "                                                                 \n",
      " dense (Dense)               (None, 256)               1048832   \n",
      "                                                                 \n",
      " dropout_3 (Dropout)         (None, 256)               0         \n",
      "                                                                 \n",
      " dense_1 (Dense)             (None, 7)                 1799      \n",
      "                                                                 \n",
      "=================================================================\n",
      "Total params: 4,341,319\n",
      "Trainable params: 4,336,071\n",
      "Non-trainable params: 5,248\n",
      "_________________________________________________________________\n"
     ]
    }
   ],
   "source": [
    "from tensorflow.keras.layers import Flatten,Dense,Dropout,BatchNormalization,Conv2D,MaxPooling2D\n",
    "from tensorflow.keras.models import Sequential\n",
    "from tensorflow.keras.metrics import Recall\n",
    "from tensorflow.keras.optimizers import RMSprop\n",
    "\n",
    "model=Sequential()\n",
    "\n",
    "model.add(Conv2D(64,(2,2),input_shape=(28,28,3),activation='relu'))\n",
    "model.add(MaxPooling2D(pool_size=(2, 2)))\n",
    "model.add(BatchNormalization())\n",
    "\n",
    "model.add(Conv2D(512,(2,2),input_shape=(28,28,3),activation='relu'))\n",
    "model.add(MaxPooling2D(pool_size=(2, 2)))\n",
    "model.add(BatchNormalization())\n",
    "\n",
    "model.add(Dropout(0.3))\n",
    "\n",
    "model.add(Conv2D(1024,(2,2),input_shape=(28,28,3),activation='relu'))\n",
    "model.add(MaxPooling2D(pool_size=(2, 2)))\n",
    "model.add(BatchNormalization())\n",
    "\n",
    "model.add(Dropout(0.3))\n",
    "\n",
    "model.add(Conv2D(1024,(1,1),input_shape=(28,28,3),activation='relu'))\n",
    "model.add(MaxPooling2D(pool_size=(1, 1)))\n",
    "model.add(BatchNormalization())\n",
    "\n",
    "model.add(Dropout(0.3))\n",
    "\n",
    "model.add(Flatten())\n",
    "\n",
    "model.add(Dense(256,activation='relu'))\n",
    "model.add(Dropout(0.5))\n",
    "\n",
    "\n",
    "model.add(Dense(7,activation='softmax'))\n",
    "\n",
    "model.compile(optimizer='adam',loss='categorical_crossentropy',metrics=[accuracy])\n",
    "\n",
    "model.summary()"
   ]
  },
  {
   "cell_type": "code",
   "execution_count": 20,
   "metadata": {
    "id": "rDKApIl3Zup6"
   },
   "outputs": [],
   "source": [
    "from tensorflow.keras.callbacks import EarlyStopping,ReduceLROnPlateau\n",
    "\n",
    "early=EarlyStopping(monitor='accuracy',patience=3)\n",
    "reduce_lr = ReduceLROnPlateau(monitor='accuracy', factor=0.5, patience=2, verbose=1, mode='min', min_lr=0.0001)"
   ]
  },
  {
   "cell_type": "markdown",
   "metadata": {
    "id": "Rq8E0DClnPzd"
   },
   "source": [
    "# **Training**"
   ]
  },
  {
   "cell_type": "code",
   "execution_count": 21,
   "metadata": {
    "id": "CNyQYcjcJZh2"
   },
   "outputs": [],
   "source": [
    "from tensorflow.keras.metrics import categorical_accuracy, top_k_categorical_accuracy\n",
    "def accuracy(y_true, y_pred):\n",
    "    return top_k_categorical_accuracy(y_true, y_pred, k=2)"
   ]
  },
  {
   "cell_type": "code",
   "execution_count": 22,
   "metadata": {
    "id": "IYNa6dMvwuzf"
   },
   "outputs": [],
   "source": [
    "class_weights={0:1,1:1,2:1,3:1,4:0.5,5:1,6:1}"
   ]
  },
  {
   "cell_type": "code",
   "execution_count": 23,
   "metadata": {
    "id": "LnHFC2AzYSND"
   },
   "outputs": [
    {
     "name": "stdout",
     "output_type": "stream",
     "text": [
      "Epoch 1/30\n",
      "282/282 [==============================] - 89s 313ms/step - loss: 1.0600 - accuracy: 0.7808 - val_loss: 2.0872 - val_accuracy: 0.1098 - lr: 0.0010\n",
      "Epoch 2/30\n",
      "282/282 [==============================] - 88s 311ms/step - loss: 0.7807 - accuracy: 0.8239 - val_loss: 0.9802 - val_accuracy: 0.7834 - lr: 0.0010\n",
      "Epoch 3/30\n",
      "282/282 [==============================] - ETA: 0s - loss: 0.7207 - accuracy: 0.8376\n",
      "Epoch 3: ReduceLROnPlateau reducing learning rate to 0.0005000000237487257.\n",
      "282/282 [==============================] - 88s 312ms/step - loss: 0.7207 - accuracy: 0.8376 - val_loss: 0.9552 - val_accuracy: 0.8473 - lr: 0.0010\n",
      "Epoch 4/30\n",
      "282/282 [==============================] - 91s 323ms/step - loss: 0.6455 - accuracy: 0.8638 - val_loss: 0.7234 - val_accuracy: 0.8862 - lr: 5.0000e-04\n",
      "Epoch 5/30\n",
      "282/282 [==============================] - ETA: 0s - loss: 0.6189 - accuracy: 0.8710\n",
      "Epoch 5: ReduceLROnPlateau reducing learning rate to 0.0002500000118743628.\n",
      "282/282 [==============================] - 91s 322ms/step - loss: 0.6189 - accuracy: 0.8710 - val_loss: 0.8922 - val_accuracy: 0.8423 - lr: 5.0000e-04\n",
      "Epoch 6/30\n",
      "282/282 [==============================] - 88s 311ms/step - loss: 0.5706 - accuracy: 0.8858 - val_loss: 0.8177 - val_accuracy: 0.8593 - lr: 2.5000e-04\n",
      "Epoch 7/30\n",
      "282/282 [==============================] - ETA: 0s - loss: 0.5515 - accuracy: 0.8930\n",
      "Epoch 7: ReduceLROnPlateau reducing learning rate to 0.0001250000059371814.\n",
      "282/282 [==============================] - 88s 312ms/step - loss: 0.5515 - accuracy: 0.8930 - val_loss: 0.7126 - val_accuracy: 0.8922 - lr: 2.5000e-04\n",
      "Epoch 8/30\n",
      "282/282 [==============================] - 88s 313ms/step - loss: 0.5285 - accuracy: 0.8978 - val_loss: 0.7235 - val_accuracy: 0.8822 - lr: 1.2500e-04\n",
      "Epoch 9/30\n",
      "282/282 [==============================] - ETA: 0s - loss: 0.5167 - accuracy: 0.9009\n",
      "Epoch 9: ReduceLROnPlateau reducing learning rate to 0.0001.\n",
      "282/282 [==============================] - 88s 311ms/step - loss: 0.5167 - accuracy: 0.9009 - val_loss: 0.7615 - val_accuracy: 0.8743 - lr: 1.2500e-04\n",
      "Epoch 10/30\n",
      "282/282 [==============================] - 88s 311ms/step - loss: 0.5036 - accuracy: 0.9051 - val_loss: 0.6909 - val_accuracy: 0.8832 - lr: 1.0000e-04\n",
      "Epoch 11/30\n",
      "282/282 [==============================] - 88s 314ms/step - loss: 0.4870 - accuracy: 0.9082 - val_loss: 0.6740 - val_accuracy: 0.8972 - lr: 1.0000e-04\n",
      "Epoch 12/30\n",
      "282/282 [==============================] - 92s 325ms/step - loss: 0.4836 - accuracy: 0.9130 - val_loss: 0.6784 - val_accuracy: 0.9022 - lr: 1.0000e-04\n",
      "Epoch 13/30\n",
      "282/282 [==============================] - 95s 337ms/step - loss: 0.4848 - accuracy: 0.9127 - val_loss: 0.6604 - val_accuracy: 0.8972 - lr: 1.0000e-04\n",
      "Epoch 14/30\n",
      "282/282 [==============================] - 101s 357ms/step - loss: 0.4702 - accuracy: 0.9190 - val_loss: 0.6574 - val_accuracy: 0.9022 - lr: 1.0000e-04\n",
      "Epoch 15/30\n",
      "282/282 [==============================] - 89s 315ms/step - loss: 0.4576 - accuracy: 0.9224 - val_loss: 0.7006 - val_accuracy: 0.8922 - lr: 1.0000e-04\n",
      "Epoch 16/30\n",
      "282/282 [==============================] - 88s 312ms/step - loss: 0.4571 - accuracy: 0.9218 - val_loss: 0.7077 - val_accuracy: 0.8902 - lr: 1.0000e-04\n",
      "Epoch 17/30\n",
      "282/282 [==============================] - 88s 312ms/step - loss: 0.4453 - accuracy: 0.9258 - val_loss: 0.6856 - val_accuracy: 0.8932 - lr: 1.0000e-04\n",
      "Epoch 18/30\n",
      "282/282 [==============================] - 88s 314ms/step - loss: 0.4268 - accuracy: 0.9291 - val_loss: 0.6744 - val_accuracy: 0.9012 - lr: 1.0000e-04\n",
      "Epoch 19/30\n",
      "282/282 [==============================] - 88s 311ms/step - loss: 0.4279 - accuracy: 0.9297 - val_loss: 0.8026 - val_accuracy: 0.8762 - lr: 1.0000e-04\n",
      "Epoch 20/30\n",
      "282/282 [==============================] - 88s 312ms/step - loss: 0.4120 - accuracy: 0.9351 - val_loss: 0.6763 - val_accuracy: 0.9002 - lr: 1.0000e-04\n",
      "Epoch 21/30\n",
      "282/282 [==============================] - 89s 314ms/step - loss: 0.4066 - accuracy: 0.9330 - val_loss: 0.7099 - val_accuracy: 0.8842 - lr: 1.0000e-04\n",
      "Epoch 22/30\n",
      "282/282 [==============================] - 88s 313ms/step - loss: 0.3898 - accuracy: 0.9406 - val_loss: 0.7002 - val_accuracy: 0.8922 - lr: 1.0000e-04\n",
      "Epoch 23/30\n",
      "282/282 [==============================] - 88s 311ms/step - loss: 0.3822 - accuracy: 0.9424 - val_loss: 0.6990 - val_accuracy: 0.8982 - lr: 1.0000e-04\n",
      "Epoch 24/30\n",
      "282/282 [==============================] - 88s 313ms/step - loss: 0.3750 - accuracy: 0.9436 - val_loss: 0.7227 - val_accuracy: 0.9032 - lr: 1.0000e-04\n",
      "Epoch 25/30\n",
      "282/282 [==============================] - 90s 320ms/step - loss: 0.3615 - accuracy: 0.9469 - val_loss: 0.6980 - val_accuracy: 0.8962 - lr: 1.0000e-04\n",
      "Epoch 26/30\n",
      "282/282 [==============================] - 93s 331ms/step - loss: 0.3389 - accuracy: 0.9563 - val_loss: 0.7312 - val_accuracy: 0.9032 - lr: 1.0000e-04\n",
      "Epoch 27/30\n",
      "282/282 [==============================] - 102s 363ms/step - loss: 0.3357 - accuracy: 0.9551 - val_loss: 0.7054 - val_accuracy: 0.9012 - lr: 1.0000e-04\n",
      "Epoch 28/30\n",
      "282/282 [==============================] - 112s 396ms/step - loss: 0.3192 - accuracy: 0.9593 - val_loss: 0.7144 - val_accuracy: 0.9142 - lr: 1.0000e-04\n",
      "Epoch 29/30\n",
      "282/282 [==============================] - 104s 369ms/step - loss: 0.3105 - accuracy: 0.9614 - val_loss: 0.6811 - val_accuracy: 0.9102 - lr: 1.0000e-04\n",
      "Epoch 30/30\n",
      "282/282 [==============================] - 102s 362ms/step - loss: 0.3078 - accuracy: 0.9617 - val_loss: 0.7128 - val_accuracy: 0.9112 - lr: 1.0000e-04\n"
     ]
    },
    {
     "data": {
      "text/plain": [
       "<keras.callbacks.History at 0x27893d1f100>"
      ]
     },
     "execution_count": 23,
     "metadata": {},
     "output_type": "execute_result"
    }
   ],
   "source": [
    "model.fit(xtrain,ytrain,epochs=30,validation_data=(xtest,ytest),callbacks=[reduce_lr,early],class_weight=class_weights)"
   ]
  },
  {
   "cell_type": "markdown",
   "metadata": {
    "id": "v-sTm885fgz3"
   },
   "source": [
    "# **Evaluation**\n"
   ]
  },
  {
   "cell_type": "code",
   "execution_count": 24,
   "metadata": {
    "id": "b0RcCwSstI9U"
   },
   "outputs": [
    {
     "data": {
      "text/plain": [
       "<AxesSubplot:>"
      ]
     },
     "execution_count": 24,
     "metadata": {},
     "output_type": "execute_result"
    },
    {
     "data": {
      "text/plain": [
       "<Figure size 1080x720 with 0 Axes>"
      ]
     },
     "metadata": {},
     "output_type": "display_data"
    },
    {
     "data": {
      "image/png": "[encoded data removed]",
      "text/plain": [
       "<Figure size 432x288 with 1 Axes>"
      ]
     },
     "metadata": {
      "needs_background": "light"
     },
     "output_type": "display_data"
    }
   ],
   "source": [
    "p.figure(figsize=(15,10))\n",
    "loss=pd.DataFrame(model.history.history)\n",
    "loss[['accuracy','val_accuracy']].plot()"
   ]
  },
  {
   "cell_type": "code",
   "execution_count": 25,
   "metadata": {
    "id": "ssWpO0srJldW"
   },
   "outputs": [
    {
     "data": {
      "text/plain": [
       "<AxesSubplot:>"
      ]
     },
     "execution_count": 25,
     "metadata": {},
     "output_type": "execute_result"
    },
    {
     "data": {
      "text/plain": [
       "<Figure size 1080x720 with 0 Axes>"
      ]
     },
     "metadata": {},
     "output_type": "display_data"
    },
    {
     "data": {
      "image/png": "[encoded data removed]",
      "text/plain": [
       "<Figure size 432x288 with 1 Axes>"
      ]
     },
     "metadata": {
      "needs_background": "light"
     },
     "output_type": "display_data"
    }
   ],
   "source": [
    "p.figure(figsize=(15,10))\n",
    "loss[['loss','val_loss']].plot()"
   ]
  },
  {
   "cell_type": "code",
   "execution_count": 26,
   "metadata": {
    "id": "Rb37VRprLlxv"
   },
   "outputs": [],
   "source": [
    "decode={\n",
    "    0:'Actinic keratosis',\n",
    "    1:'Basal cell carcinoma',\n",
    "    2:'Benign keratosis-like lesions',\n",
    "    3:'Dermatofibroma',\n",
    "    4:'Melanocytic nevi',\n",
    "    5:'Melanoma',\n",
    "    6:'Vascular lesion'  \n",
    "}"
   ]
  },
  {
   "cell_type": "code",
   "execution_count": 27,
   "metadata": {
    "id": "ta-210noJngc"
   },
   "outputs": [
    {
     "data": {
      "text/plain": [
       "<matplotlib.legend.Legend at 0x278932c9700>"
      ]
     },
     "execution_count": 27,
     "metadata": {},
     "output_type": "execute_result"
    },
    {
     "data": {
      "image/png": "[encoded data removed]",
      "text/plain": [
       "<Figure size 720x576 with 1 Axes>"
      ]
     },
     "metadata": {
      "needs_background": "light"
     },
     "output_type": "display_data"
    }
   ],
   "source": [
    "p.figure(figsize=(10,8))\n",
    "\n",
    "pred=model.predict(xtest)\n",
    "\n",
    "from sklearn.metrics import roc_curve,auc\n",
    "fpr = dict()\n",
    "tpr = dict()\n",
    "roc_auc = dict()\n",
    "for i in range(7):\n",
    "    fpr[i], tpr[i], _ = roc_curve(ytest[:, i], pred[:, i])\n",
    "    roc_auc[i] = auc(fpr[i], tpr[i])\n",
    "\n",
    "for i in range(7):\n",
    "    p.plot(fpr[i],tpr[i],label=decode[i],linewidth=2)\n",
    "p.plot([0, 1], [0, 1], 'k--', lw=2,label='random guess')\n",
    "p.legend(loc=\"lower right\")"
   ]
  },
  {
   "cell_type": "code",
   "execution_count": 31,
   "metadata": {
    "id": "bVdsYO7DtN-m"
   },
   "outputs": [
    {
     "name": "stdout",
     "output_type": "stream",
     "text": [
      "              precision    recall  f1-score   support\n",
      "\n",
      "           0       0.64      0.42      0.51        33\n",
      "           1       0.60      0.61      0.60        51\n",
      "           2       0.47      0.59      0.53       110\n",
      "           3       0.38      0.25      0.30        12\n",
      "           4       0.90      0.86      0.88       671\n",
      "           5       1.00      0.71      0.83        14\n",
      "           6       0.48      0.59      0.53       111\n",
      "\n",
      "    accuracy                           0.76      1002\n",
      "   macro avg       0.64      0.58      0.60      1002\n",
      "weighted avg       0.78      0.76      0.77      1002\n",
      "\n"
     ]
    }
   ],
   "source": [
    "from sklearn.metrics import classification_report,confusion_matrix\n",
    "\n",
    "predictions=model.predict(xtest)\n",
    "\n",
    "classes_x=np.argmax(predictions,axis=1)\n",
    "\n",
    "check=[]\n",
    "for i in range(len(ytest)):\n",
    "  for j in range(7):\n",
    "    if(ytest[i][j]==1):\n",
    "      check.append(j)\n",
    "check=np.asarray(check)\n",
    "print(classification_report(check,classes_x))"
   ]
  }
 ],
 "metadata": {
  "accelerator": "GPU",
  "colab": {
   "collapsed_sections": [],
   "include_colab_link": true,
   "name": "HAM28 Final.ipynb",
   "provenance": [],
   "toc_visible": true
  },
  "kernelspec": {
   "display_name": "Python 3",
   "language": "python",
   "name": "python3"
  },
  "language_info": {
   "codemirror_mode": {
    "name": "ipython",
    "version": 3
   },
   "file_extension": ".py",
   "mimetype": "text/x-python",
   "name": "python",
   "nbconvert_exporter": "python",
   "pygments_lexer": "ipython3",
   "version": "3.8.8"
  }
 },
 "nbformat": 4,
 "nbformat_minor": 1
}
